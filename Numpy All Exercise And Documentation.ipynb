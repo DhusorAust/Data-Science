{
 "cells": [
  {
   "cell_type": "markdown",
   "metadata": {},
   "source": [
    "# Numpy Exercise\n"
   ]
  },
  {
   "cell_type": "code",
   "execution_count": 2,
   "metadata": {},
   "outputs": [],
   "source": [
    "import numpy as np"
   ]
  },
  {
   "cell_type": "markdown",
   "metadata": {},
   "source": [
    "# 1D Array Mixed and 2D Array Mixed"
   ]
  },
  {
   "cell_type": "code",
   "execution_count": 6,
   "metadata": {
    "scrolled": true
   },
   "outputs": [
    {
     "name": "stdout",
     "output_type": "stream",
     "text": [
      "[1.  2.2 3.  4.  5. ] \n",
      "\n",
      "[[1.    2.2   3.    4.    5.   ]\n",
      " [3.    2.006 4.    5.    6.   ]]\n"
     ]
    }
   ],
   "source": [
    "arr_1D=np.array([1,2.2,3,4,5])\n",
    "\n",
    "print(arr_1D,\"\\n\")\n",
    "\n",
    "arr_2D=np.array([[1,2.2,3,4,5],[3,2.006,4,5,6]])\n",
    "\n",
    "print(arr_2D)"
   ]
  },
  {
   "cell_type": "markdown",
   "metadata": {},
   "source": [
    "# Fixed  Array"
   ]
  },
  {
   "cell_type": "code",
   "execution_count": 6,
   "metadata": {},
   "outputs": [
    {
     "name": "stdout",
     "output_type": "stream",
     "text": [
      "[0 1 2 3 4 5 6 7 8 9] \n",
      "\n",
      "[[0 1 2 3 4 5 6 7 8 9]\n",
      " [0 1 2 3 4 5 6 7 8 9]]\n"
     ]
    }
   ],
   "source": [
    "import numpy as np\n",
    "arr_Fixed=np.array([0, 1, 2, 3, 4, 5, 6, 7, 8, 9],int)\n",
    "\n",
    "print(arr_Fixed,'\\n')\n",
    "\n",
    "arr_Fixed2D=np.array([[0, 1, 2, 3, 4, 5, 6, 7, 8, 9],[0, 1, 2, 3, 4, 5, 6, 7, 8, 9]],int)\n",
    "\n",
    "print(arr_Fixed2D)"
   ]
  },
  {
   "cell_type": "markdown",
   "metadata": {},
   "source": [
    "# arr.ndim -> Dimentional\n",
    "# arr.shape -> (rows,column)"
   ]
  },
  {
   "cell_type": "markdown",
   "metadata": {},
   "source": [
    "# Array Slicing: Accessing Subarrays"
   ]
  },
  {
   "cell_type": "code",
   "execution_count": 33,
   "metadata": {},
   "outputs": [
    {
     "name": "stdout",
     "output_type": "stream",
     "text": [
      "[0 1 2 3 4 5 6 7 8 9]\n"
     ]
    }
   ],
   "source": [
    "arr3=np.arange(10)\n",
    "print(arr4)"
   ]
  },
  {
   "cell_type": "code",
   "execution_count": 35,
   "metadata": {},
   "outputs": [
    {
     "data": {
      "text/plain": [
       "array([0, 1, 2, 3, 4, 5, 6, 7, 8, 9])"
      ]
     },
     "execution_count": 35,
     "metadata": {},
     "output_type": "execute_result"
    }
   ],
   "source": [
    "arr3[:]"
   ]
  },
  {
   "cell_type": "code",
   "execution_count": 43,
   "metadata": {},
   "outputs": [
    {
     "data": {
      "text/plain": [
       "array([3, 4, 5, 6, 7])"
      ]
     },
     "execution_count": 43,
     "metadata": {},
     "output_type": "execute_result"
    }
   ],
   "source": [
    "arr3[3:8]"
   ]
  },
  {
   "cell_type": "code",
   "execution_count": 46,
   "metadata": {},
   "outputs": [
    {
     "name": "stdout",
     "output_type": "stream",
     "text": [
      "[[0 1]\n",
      " [2 3]\n",
      " [4 5]]\n"
     ]
    }
   ],
   "source": [
    "arr4=np.arange(6).reshape(3,2)\n",
    "print(arr4)"
   ]
  },
  {
   "cell_type": "code",
   "execution_count": 48,
   "metadata": {},
   "outputs": [
    {
     "name": "stdout",
     "output_type": "stream",
     "text": [
      "[[ 0  1  2  3  4  5  6  7  8  9 10 11 12 13 14]\n",
      " [15 16 17 18 19 20 21 22 23 24 25 26 27 28 29]]\n"
     ]
    }
   ],
   "source": [
    "arr5=np.arange(30).reshape(2,15)\n",
    "\n",
    "print(arr5)"
   ]
  },
  {
   "cell_type": "code",
   "execution_count": 52,
   "metadata": {},
   "outputs": [
    {
     "data": {
      "text/plain": [
       "[array([[ 0,  1,  2,  3,  4],\n",
       "        [15, 16, 17, 18, 19]]), array([[ 5,  6,  7,  8,  9],\n",
       "        [20, 21, 22, 23, 24]]), array([[10, 11, 12, 13, 14],\n",
       "        [25, 26, 27, 28, 29]])]"
      ]
     },
     "execution_count": 52,
     "metadata": {},
     "output_type": "execute_result"
    }
   ],
   "source": [
    "split=np.hsplit(arr5,3)\n",
    "split"
   ]
  },
  {
   "cell_type": "code",
   "execution_count": 53,
   "metadata": {},
   "outputs": [
    {
     "data": {
      "text/plain": [
       "[array([[ 0,  1,  2,  3,  4,  5,  6,  7,  8,  9, 10, 11, 12, 13, 14]]),\n",
       " array([[15, 16, 17, 18, 19, 20, 21, 22, 23, 24, 25, 26, 27, 28, 29]])]"
      ]
     },
     "execution_count": 53,
     "metadata": {},
     "output_type": "execute_result"
    }
   ],
   "source": [
    "split2=np.vsplit(arr5,2)\n",
    "split2"
   ]
  },
  {
   "cell_type": "code",
   "execution_count": 40,
   "metadata": {},
   "outputs": [
    {
     "name": "stdout",
     "output_type": "stream",
     "text": [
      "[[8 7 6]\n",
      " [7 9 7]]\n"
     ]
    }
   ],
   "source": [
    "arr6=np.random.randint(5,10, size=(2,3))\n",
    "\n",
    "print(arr6)"
   ]
  },
  {
   "cell_type": "code",
   "execution_count": 42,
   "metadata": {},
   "outputs": [
    {
     "data": {
      "text/plain": [
       "array([[7, 6],\n",
       "       [9, 7]])"
      ]
     },
     "execution_count": 42,
     "metadata": {},
     "output_type": "execute_result"
    }
   ],
   "source": [
    "arr6[:,1:3]"
   ]
  },
  {
   "cell_type": "code",
   "execution_count": 57,
   "metadata": {},
   "outputs": [
    {
     "name": "stdout",
     "output_type": "stream",
     "text": [
      "[[2 3 4 5 4 2]\n",
      " [4 6 7 8 6 7]]\n"
     ]
    }
   ],
   "source": [
    "arr7=np.array([[2,3,4,5,4,2],[4,6,7,8,6,7]])\n",
    "\n",
    "print(arr7)"
   ]
  },
  {
   "cell_type": "code",
   "execution_count": 58,
   "metadata": {},
   "outputs": [
    {
     "data": {
      "text/plain": [
       "array([2, 3, 4, 5, 4, 2, 4, 6, 7, 8, 6, 7])"
      ]
     },
     "execution_count": 58,
     "metadata": {},
     "output_type": "execute_result"
    }
   ],
   "source": [
    "flattern=arr7.flatten()\n",
    "flattern"
   ]
  },
  {
   "cell_type": "markdown",
   "metadata": {},
   "source": [
    "In[16]: x = np.arange(10)\n",
    "\n",
    "x\n",
    "\n",
    "Out[16]: array([0, 1, 2, 3, 4, 5, 6, 7, 8, 9])\n",
    "\n",
    "In[17]: x[:5] --->>> first five elements\n",
    "\n",
    "Out[17]: array([0, 1, 2, 3, 4])\n",
    "\n",
    "In[18]: x[5:] ---->>> elements after index 5\n",
    "\n",
    "\n",
    "Out[18]: array([5, 6, 7, 8, 9])\n",
    "\n",
    "In[19]: x[4:7] ---->>> middle subarray\n",
    "\n",
    "\n",
    "\n",
    "Out[19]: array([4, 5, 6])\n",
    "\n",
    "44\n",
    "\n",
    "In[20]: x[::2] ---->>> every other element\n",
    "\n",
    "Out[20]: array([0, 2, 4, 6, 8])\n",
    "\n",
    "\n",
    "In[21]: x[1::2] ---->>>every other element, starting at index 1\n",
    "\n",
    "\n",
    "Out[21]: array([1, 3, 5, 7, 9])\n",
    "\n",
    "A potentially confusing case is when the step value is negative. In this case, the\n",
    "defaults for start and stop are swapped. This becomes a convenient way to reverse\n",
    "an array:\n",
    "\n",
    "In[22]: x[::-1]  ---->>>all elements, reversed\n",
    "\n",
    "Out[22]: array([9, 8, 7, 6, 5, 4, 3, 2, 1, 0])\n",
    "\n",
    "In[23]: x[5::-2] ----->>>reversed every other from index 5\n",
    "\n",
    "\n",
    "Out[23]: array([5, 3, 1])\n"
   ]
  },
  {
   "cell_type": "markdown",
   "metadata": {},
   "source": [
    "# Reversed Array"
   ]
  },
  {
   "cell_type": "code",
   "execution_count": 2,
   "metadata": {},
   "outputs": [
    {
     "data": {
      "text/plain": [
       "array([[[0, 1],\n",
       "        [2, 3]],\n",
       "\n",
       "       [[4, 5],\n",
       "        [6, 7]]])"
      ]
     },
     "execution_count": 2,
     "metadata": {},
     "output_type": "execute_result"
    }
   ],
   "source": [
    "import numpy as np\n",
    "A = np.arange(8).reshape((2,2,2))\n",
    "A"
   ]
  },
  {
   "cell_type": "code",
   "execution_count": 3,
   "metadata": {},
   "outputs": [
    {
     "data": {
      "text/plain": [
       "array([[[7, 6],\n",
       "        [5, 4]],\n",
       "\n",
       "       [[3, 2],\n",
       "        [1, 0]]])"
      ]
     },
     "execution_count": 3,
     "metadata": {},
     "output_type": "execute_result"
    }
   ],
   "source": [
    "np.flip(A)"
   ]
  },
  {
   "cell_type": "markdown",
   "metadata": {},
   "source": [
    "A = np.arange(8).reshape((2,2,2))\n",
    "A\n",
    "array([[[0, 1],\n",
    "        [2, 3]],\n",
    "       [[4, 5],\n",
    "        [6, 7]]])\n",
    "        \n",
    "flip(A, 0)\n",
    "\n",
    "array([[[4, 5],\n",
    "        [6, 7]],\n",
    "       [[0, 1],\n",
    "        [2, 3]]])\n",
    "        \n",
    "flip(A, 1)\n",
    "array([[[2, 3],\n",
    "        [0, 1]],\n",
    "       [[6, 7],\n",
    "        [4, 5]]])\n",
    "        \n",
    "np.flip(A)\n",
    "array([[[7, 6],\n",
    "        [5, 4]],\n",
    "       [[3, 2],\n",
    "        [1, 0]]])\n",
    "        \n",
    "np.flip(A, (0, 2))\n",
    "array([[[5, 4],\n",
    "        [7, 6]],\n",
    "       [[1, 0],\n",
    "        [3, 2]]])\n",
    "        \n",
    "A = np.random.randn(3,4,5)\n",
    "np.all(flip(A,2) == A[:,:,::-1,...])\n",
    "True"
   ]
  },
  {
   "cell_type": "markdown",
   "metadata": {},
   "source": [
    "# Concate Array"
   ]
  },
  {
   "cell_type": "markdown",
   "metadata": {},
   "source": [
    "a = np.array([[1, 2], [3, 4]])\n",
    "\n",
    "b = np.array([[5, 6]])\n",
    "\n",
    "np.concatenate((a, b), axis=0)\n",
    "\n",
    "array([[1, 2],\n",
    "       [3, 4],\n",
    "       [5, 6]])\n",
    "\n",
    "np.concatenate((a, b.T), axis=1)\n",
    "\n",
    "array([[1, 2, 5],\n",
    "       [3, 4, 6]])\n",
    "\n",
    "np.concatenate((a, b), axis=None)\n",
    "\n",
    "array([1, 2, 3, 4, 5, 6])"
   ]
  },
  {
   "cell_type": "code",
   "execution_count": 9,
   "metadata": {},
   "outputs": [
    {
     "data": {
      "text/plain": [
       "array([1, 2, 3, 3, 2, 1])"
      ]
     },
     "execution_count": 9,
     "metadata": {},
     "output_type": "execute_result"
    }
   ],
   "source": [
    "x = np.array([1, 2, 3])\n",
    "y = np.array([3, 2, 1])\n",
    "np.concatenate([x, y])"
   ]
  },
  {
   "cell_type": "code",
   "execution_count": 12,
   "metadata": {
    "scrolled": true
   },
   "outputs": [
    {
     "name": "stdout",
     "output_type": "stream",
     "text": [
      "[ 1  2  3  3  2  1 99 99 99]\n"
     ]
    }
   ],
   "source": [
    "z = [99, 99, 99]\n",
    "print(np.concatenate([x, y, z]))"
   ]
  },
  {
   "cell_type": "code",
   "execution_count": 14,
   "metadata": {},
   "outputs": [
    {
     "data": {
      "text/plain": [
       "array([[1, 2, 3],\n",
       "       [9, 8, 7],\n",
       "       [6, 5, 4]])"
      ]
     },
     "execution_count": 14,
     "metadata": {},
     "output_type": "execute_result"
    }
   ],
   "source": [
    "x = np.array([1, 2, 3])\n",
    "grid = np.array([[9, 8, 7],\n",
    "[6, 5, 4]])\n",
    "# vertically stack the arrays\n",
    "np.vstack([x, grid])"
   ]
  },
  {
   "cell_type": "code",
   "execution_count": 16,
   "metadata": {},
   "outputs": [
    {
     "data": {
      "text/plain": [
       "array([[ 9,  8,  7, 99],\n",
       "       [ 6,  5,  4, 99]])"
      ]
     },
     "execution_count": 16,
     "metadata": {},
     "output_type": "execute_result"
    }
   ],
   "source": [
    "y= np.array([[99],\n",
    "[99]])\n",
    "np.hstack([grid, y])"
   ]
  },
  {
   "cell_type": "markdown",
   "metadata": {},
   "source": [
    "# Slicing Array and Change small pieces will change the main Array"
   ]
  },
  {
   "cell_type": "code",
   "execution_count": 3,
   "metadata": {},
   "outputs": [
    {
     "data": {
      "text/plain": [
       "array([[2, 3, 4, 5, 4, 2],\n",
       "       [4, 6, 7, 8, 6, 7]])"
      ]
     },
     "execution_count": 3,
     "metadata": {},
     "output_type": "execute_result"
    }
   ],
   "source": [
    "arr8=np.array([[2,3,4,5,4,2],[4,6,7,8,6,7]])\n",
    "arr8"
   ]
  },
  {
   "cell_type": "code",
   "execution_count": 5,
   "metadata": {},
   "outputs": [
    {
     "data": {
      "text/plain": [
       "array([[2, 3],\n",
       "       [4, 6]])"
      ]
     },
     "execution_count": 5,
     "metadata": {},
     "output_type": "execute_result"
    }
   ],
   "source": [
    "arr9=arr8[0:2,0:2]\n",
    "\n",
    "arr9"
   ]
  },
  {
   "cell_type": "code",
   "execution_count": 6,
   "metadata": {},
   "outputs": [
    {
     "data": {
      "text/plain": [
       "array([[99,  3],\n",
       "       [ 4,  6]])"
      ]
     },
     "execution_count": 6,
     "metadata": {},
     "output_type": "execute_result"
    }
   ],
   "source": [
    "arr9[0,0]=99\n",
    "\n",
    "arr9"
   ]
  },
  {
   "cell_type": "code",
   "execution_count": 7,
   "metadata": {},
   "outputs": [
    {
     "data": {
      "text/plain": [
       "array([[99,  3,  4,  5,  4,  2],\n",
       "       [ 4,  6,  7,  8,  6,  7]])"
      ]
     },
     "execution_count": 7,
     "metadata": {},
     "output_type": "execute_result"
    }
   ],
   "source": [
    "arr8"
   ]
  },
  {
   "cell_type": "markdown",
   "metadata": {},
   "source": [
    "# Sorting in Numpy"
   ]
  },
  {
   "cell_type": "code",
   "execution_count": 3,
   "metadata": {},
   "outputs": [
    {
     "data": {
      "text/plain": [
       "array([1, 2, 3, 4, 5])"
      ]
     },
     "execution_count": 3,
     "metadata": {},
     "output_type": "execute_result"
    }
   ],
   "source": [
    "import numpy as np\n",
    "x = np.array([2, 1, 4, 3, 5])\n",
    "np.sort(x)"
   ]
  },
  {
   "cell_type": "code",
   "execution_count": 4,
   "metadata": {},
   "outputs": [
    {
     "name": "stdout",
     "output_type": "stream",
     "text": [
      "[[6 3 7 4 6 9]\n",
      " [2 6 7 4 3 7]\n",
      " [7 2 5 4 1 7]\n",
      " [5 1 4 0 9 5]]\n"
     ]
    }
   ],
   "source": [
    "arr10 = np.random.RandomState(42)\n",
    "X = arr10.randint(0, 10, (4, 6))\n",
    "print(X)"
   ]
  },
  {
   "cell_type": "code",
   "execution_count": 5,
   "metadata": {},
   "outputs": [
    {
     "data": {
      "text/plain": [
       "array([[2, 1, 4, 0, 1, 5],\n",
       "       [5, 2, 5, 4, 3, 7],\n",
       "       [6, 3, 7, 4, 6, 7],\n",
       "       [7, 6, 7, 4, 9, 9]])"
      ]
     },
     "execution_count": 5,
     "metadata": {},
     "output_type": "execute_result"
    }
   ],
   "source": [
    "# sort each column of X\n",
    "np.sort(X, axis=0)"
   ]
  },
  {
   "cell_type": "code",
   "execution_count": 6,
   "metadata": {},
   "outputs": [
    {
     "data": {
      "text/plain": [
       "array([[3, 4, 6, 6, 7, 9],\n",
       "       [2, 3, 4, 6, 7, 7],\n",
       "       [1, 2, 4, 5, 7, 7],\n",
       "       [0, 1, 4, 5, 5, 9]])"
      ]
     },
     "execution_count": 6,
     "metadata": {},
     "output_type": "execute_result"
    }
   ],
   "source": [
    "# sort each row of X\n",
    "np.sort(X, axis=1)"
   ]
  },
  {
   "cell_type": "markdown",
   "metadata": {},
   "source": [
    "# Partial Sorts: Partitioning"
   ]
  },
  {
   "cell_type": "code",
   "execution_count": 9,
   "metadata": {},
   "outputs": [
    {
     "data": {
      "text/plain": [
       "array([2, 1, 3, 4, 6, 5, 7])"
      ]
     },
     "execution_count": 9,
     "metadata": {},
     "output_type": "execute_result"
    }
   ],
   "source": [
    "import numpy as np\n",
    "\n",
    "x = np.array([7, 2, 3, 1, 6, 5, 4])\n",
    "#the first three values in the resulting array are the three smallest in the array\n",
    "\n",
    "np.partition(x, 3)"
   ]
  },
  {
   "cell_type": "code",
   "execution_count": 11,
   "metadata": {},
   "outputs": [
    {
     "data": {
      "text/plain": [
       "array([[0, 1, 2, 6, 3, 7],\n",
       "       [1, 3, 5, 7, 5, 9],\n",
       "       [1, 1, 3, 9, 5, 9],\n",
       "       [3, 4, 6, 8, 7, 7]])"
      ]
     },
     "execution_count": 11,
     "metadata": {},
     "output_type": "execute_result"
    }
   ],
   "source": [
    "X1 = arr10.randint(0, 10, (4, 6))\n",
    "np.partition(X1, 2, axis=1)"
   ]
  },
  {
   "cell_type": "markdown",
   "metadata": {},
   "source": [
    "np.sum                np.nansum               Compute sum of elements\n",
    "\n",
    "np.prod               np.nanprod              Compute product of elements\n",
    "\n",
    "np.mean               np.nanmean              Compute median of elements\n",
    "\n",
    "np.std                np.nanstd               Compute standard deviation\n",
    "\n",
    "np.var                np.nanvar               Compute variance\n",
    "\n",
    "np.min                np.nanmin               Find minimum valu\n",
    "\n",
    "np.max                np.nanmax               Find maximum value\n",
    "\n",
    "np.argmin             np.nanargmin            Find index of minimum value\n",
    "\n",
    "np.argmax             np.nanargmax            Find index of maximum value\n",
    "\n",
    "np.median             np.nanmedian            Compute median of elements\n",
    "\n",
    "np.percentile         np.nanpercentile        Compute rank-based statistics of elements\n",
    "\n",
    "np.any                N/A Evaluate            whether any elements are true\n",
    "\n",
    "np.all                N/A Evaluate            whether all elements are true\n"
   ]
  }
 ],
 "metadata": {
  "kernelspec": {
   "display_name": "Python 3",
   "language": "python",
   "name": "python3"
  },
  "language_info": {
   "codemirror_mode": {
    "name": "ipython",
    "version": 3
   },
   "file_extension": ".py",
   "mimetype": "text/x-python",
   "name": "python",
   "nbconvert_exporter": "python",
   "pygments_lexer": "ipython3",
   "version": "3.7.0"
  }
 },
 "nbformat": 4,
 "nbformat_minor": 2
}
